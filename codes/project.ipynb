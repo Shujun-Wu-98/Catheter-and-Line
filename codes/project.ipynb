{
  "nbformat": 4,
  "nbformat_minor": 0,
  "metadata": {
    "colab": {
      "name": "project_normalize.ipynb",
      "provenance": [],
      "collapsed_sections": [
        "06XIURESOWBF",
        "I8bdCku8ZEgA",
        "JfvSRNxGTtet",
        "dm5BoZGDW-Dk",
        "iqXlaoN4Xxbf",
        "RzmitKwZRbAl",
        "zUHxwwY7dK8S",
        "C_G65dZ0wHEy",
        "doDvrM1htcmc",
        "KMk6pTNvB2e9",
        "PQM3nnzrmAnA"
      ]
    },
    "kernelspec": {
      "display_name": "Python 3",
      "name": "python3"
    },
    "language_info": {
      "name": "python"
    }
  },
  "cells": [
    {
      "cell_type": "markdown",
      "metadata": {
        "id": "06XIURESOWBF"
      },
      "source": [
        "## Github Dataset"
      ]
    },
    {
      "cell_type": "code",
      "metadata": {
        "colab": {
          "base_uri": "https://localhost:8080/"
        },
        "id": "Sl1b5QeVOVjv",
        "outputId": "27b54961-03d5-49c4-b12d-d956e7283778"
      },
      "source": [
        "!git clone https://github.com/Shujun-Wu-98/Catheter-and-Line.git"
      ],
      "execution_count": null,
      "outputs": [
        {
          "output_type": "stream",
          "text": [
            "Cloning into 'Catheter-and-Line'...\n",
            "remote: Enumerating objects: 35712, done.\u001b[K\n",
            "remote: Counting objects: 100% (1255/1255), done.\u001b[K\n",
            "remote: Compressing objects: 100% (1211/1211), done.\u001b[K\n",
            "remote: Total 35712 (delta 45), reused 1254 (delta 44), pack-reused 34457\u001b[K\n",
            "Receiving objects: 100% (35712/35712), 6.70 GiB | 29.60 MiB/s, done.\n",
            "Resolving deltas: 100% (1279/1279), done.\n",
            "Checking out files: 100% (33668/33668), done.\n"
          ],
          "name": "stdout"
        }
      ]
    },
    {
      "cell_type": "code",
      "metadata": {
        "colab": {
          "base_uri": "https://localhost:8080/"
        },
        "id": "lng7d5Cr1ooa",
        "outputId": "dba9c70e-5f64-4691-b98a-63dc22e912ec"
      },
      "source": [
        "!pip install -U git+https://github.com/albu/albumentations\n",
        "!pip install timm\n",
        "!pip install opencv-python"
      ],
      "execution_count": null,
      "outputs": [
        {
          "output_type": "stream",
          "text": [
            "Collecting git+https://github.com/albu/albumentations\n",
            "  Cloning https://github.com/albu/albumentations to /tmp/pip-req-build-k2gi62s2\n",
            "  Running command git clone -q https://github.com/albu/albumentations /tmp/pip-req-build-k2gi62s2\n",
            "Requirement already satisfied: numpy>=1.11.1 in /usr/local/lib/python3.7/dist-packages (from albumentations==1.0.3) (1.19.5)\n",
            "Requirement already satisfied: scipy in /usr/local/lib/python3.7/dist-packages (from albumentations==1.0.3) (1.4.1)\n",
            "Requirement already satisfied: scikit-image>=0.16.1 in /usr/local/lib/python3.7/dist-packages (from albumentations==1.0.3) (0.16.2)\n",
            "Requirement already satisfied: PyYAML in /usr/local/lib/python3.7/dist-packages (from albumentations==1.0.3) (3.13)\n",
            "Requirement already satisfied: opencv-python>=4.1.1 in /usr/local/lib/python3.7/dist-packages (from albumentations==1.0.3) (4.1.2.30)\n",
            "Requirement already satisfied: imageio>=2.3.0 in /usr/local/lib/python3.7/dist-packages (from scikit-image>=0.16.1->albumentations==1.0.3) (2.4.1)\n",
            "Requirement already satisfied: matplotlib!=3.0.0,>=2.0.0 in /usr/local/lib/python3.7/dist-packages (from scikit-image>=0.16.1->albumentations==1.0.3) (3.2.2)\n",
            "Requirement already satisfied: PyWavelets>=0.4.0 in /usr/local/lib/python3.7/dist-packages (from scikit-image>=0.16.1->albumentations==1.0.3) (1.1.1)\n",
            "Requirement already satisfied: networkx>=2.0 in /usr/local/lib/python3.7/dist-packages (from scikit-image>=0.16.1->albumentations==1.0.3) (2.5.1)\n",
            "Requirement already satisfied: pillow>=4.3.0 in /usr/local/lib/python3.7/dist-packages (from scikit-image>=0.16.1->albumentations==1.0.3) (7.1.2)\n",
            "Requirement already satisfied: python-dateutil>=2.1 in /usr/local/lib/python3.7/dist-packages (from matplotlib!=3.0.0,>=2.0.0->scikit-image>=0.16.1->albumentations==1.0.3) (2.8.1)\n",
            "Requirement already satisfied: kiwisolver>=1.0.1 in /usr/local/lib/python3.7/dist-packages (from matplotlib!=3.0.0,>=2.0.0->scikit-image>=0.16.1->albumentations==1.0.3) (1.3.1)\n",
            "Requirement already satisfied: pyparsing!=2.0.4,!=2.1.2,!=2.1.6,>=2.0.1 in /usr/local/lib/python3.7/dist-packages (from matplotlib!=3.0.0,>=2.0.0->scikit-image>=0.16.1->albumentations==1.0.3) (2.4.7)\n",
            "Requirement already satisfied: cycler>=0.10 in /usr/local/lib/python3.7/dist-packages (from matplotlib!=3.0.0,>=2.0.0->scikit-image>=0.16.1->albumentations==1.0.3) (0.10.0)\n",
            "Requirement already satisfied: six in /usr/local/lib/python3.7/dist-packages (from cycler>=0.10->matplotlib!=3.0.0,>=2.0.0->scikit-image>=0.16.1->albumentations==1.0.3) (1.15.0)\n",
            "Requirement already satisfied: decorator<5,>=4.3 in /usr/local/lib/python3.7/dist-packages (from networkx>=2.0->scikit-image>=0.16.1->albumentations==1.0.3) (4.4.2)\n",
            "Building wheels for collected packages: albumentations\n",
            "  Building wheel for albumentations (setup.py) ... \u001b[?25l\u001b[?25hdone\n",
            "  Created wheel for albumentations: filename=albumentations-1.0.3-py3-none-any.whl size=98755 sha256=5c3c862cf7b038dd342544ce6a9cb6820308d2808ed4435059f3632c6be41db2\n",
            "  Stored in directory: /tmp/pip-ephem-wheel-cache-zdkdxe90/wheels/63/11/1a/c77caf3ae9b9b6d57b3ee5e6a41a50f3bc12c66a70f6b90bf0\n",
            "Successfully built albumentations\n",
            "Installing collected packages: albumentations\n",
            "  Attempting uninstall: albumentations\n",
            "    Found existing installation: albumentations 0.1.12\n",
            "    Uninstalling albumentations-0.1.12:\n",
            "      Successfully uninstalled albumentations-0.1.12\n",
            "Successfully installed albumentations-1.0.3\n",
            "Collecting timm\n",
            "  Downloading timm-0.4.12-py3-none-any.whl (376 kB)\n",
            "\u001b[K     |████████████████████████████████| 376 kB 12.9 MB/s \n",
            "\u001b[?25hRequirement already satisfied: torchvision in /usr/local/lib/python3.7/dist-packages (from timm) (0.10.0+cu102)\n",
            "Requirement already satisfied: torch>=1.4 in /usr/local/lib/python3.7/dist-packages (from timm) (1.9.0+cu102)\n",
            "Requirement already satisfied: typing-extensions in /usr/local/lib/python3.7/dist-packages (from torch>=1.4->timm) (3.7.4.3)\n",
            "Requirement already satisfied: numpy in /usr/local/lib/python3.7/dist-packages (from torchvision->timm) (1.19.5)\n",
            "Requirement already satisfied: pillow>=5.3.0 in /usr/local/lib/python3.7/dist-packages (from torchvision->timm) (7.1.2)\n",
            "Installing collected packages: timm\n",
            "Successfully installed timm-0.4.12\n",
            "Requirement already satisfied: opencv-python in /usr/local/lib/python3.7/dist-packages (4.1.2.30)\n",
            "Requirement already satisfied: numpy>=1.14.5 in /usr/local/lib/python3.7/dist-packages (from opencv-python) (1.19.5)\n"
          ],
          "name": "stdout"
        }
      ]
    },
    {
      "cell_type": "markdown",
      "metadata": {
        "id": "I8bdCku8ZEgA"
      },
      "source": [
        "## Import Packages"
      ]
    },
    {
      "cell_type": "code",
      "metadata": {
        "id": "jEUxeYG5ZJO4"
      },
      "source": [
        "#import the libraries\n",
        "import numpy as np\n",
        "import cv2\n",
        "from PIL import Image\n",
        "import time\n",
        "import pandas as pd\n",
        "import torch\n",
        "import torch.nn as nn\n",
        "import torchvision.models as models\n",
        "import torch.nn.functional as F\n",
        "from torch.utils.data import DataLoader, Dataset\n",
        "import torchvision\n",
        "import torchvision.transforms as transforms\n",
        "import torch.optim as optim\n",
        "torch.set_printoptions(precision=6,sci_mode=False)\n",
        "import matplotlib.pyplot as plt\n",
        "%matplotlib inline\n",
        "import albumentations\n",
        "from albumentations import *\n",
        "from albumentations.pytorch import ToTensorV2\n",
        "from sklearn.model_selection import train_test_split\n",
        "import timm\n",
        "from sklearn.metrics import explained_variance_score,roc_auc_score, confusion_matrix\n",
        "\n",
        "\n",
        "import seaborn as sns"
      ],
      "execution_count": null,
      "outputs": []
    },
    {
      "cell_type": "markdown",
      "metadata": {
        "id": "JfvSRNxGTtet"
      },
      "source": [
        "## Check the GPU"
      ]
    },
    {
      "cell_type": "code",
      "metadata": {
        "colab": {
          "base_uri": "https://localhost:8080/"
        },
        "id": "qulSuZY-Tskj",
        "outputId": "c5021d26-e472-4279-f8a1-3b5d0fae8b17"
      },
      "source": [
        "#device configuration\n",
        "device = torch.device('cuda' if torch.cuda.is_available() else 'cpu')\n",
        "print(device)"
      ],
      "execution_count": null,
      "outputs": [
        {
          "output_type": "stream",
          "text": [
            "cuda\n"
          ],
          "name": "stdout"
        }
      ]
    },
    {
      "cell_type": "code",
      "metadata": {
        "colab": {
          "base_uri": "https://localhost:8080/"
        },
        "id": "yFY59kReSGUS",
        "outputId": "e0848249-3a11-48d6-e0a9-16e2107c4678"
      },
      "source": [
        "gpu_info = !nvidia-smi\n",
        "gpu_info = '\\n'.join(gpu_info)\n",
        "if gpu_info.find('failed') >= 0:\n",
        "  print('Select the Runtime > \"Change runtime type\" menu to enable a GPU accelerator, ')\n",
        "  print('and then re-execute this cell.')\n",
        "else:\n",
        "  print(gpu_info)"
      ],
      "execution_count": null,
      "outputs": [
        {
          "output_type": "stream",
          "text": [
            "Tue Jul 27 01:59:57 2021       \n",
            "+-----------------------------------------------------------------------------+\n",
            "| NVIDIA-SMI 470.42.01    Driver Version: 460.32.03    CUDA Version: 11.2     |\n",
            "|-------------------------------+----------------------+----------------------+\n",
            "| GPU  Name        Persistence-M| Bus-Id        Disp.A | Volatile Uncorr. ECC |\n",
            "| Fan  Temp  Perf  Pwr:Usage/Cap|         Memory-Usage | GPU-Util  Compute M. |\n",
            "|                               |                      |               MIG M. |\n",
            "|===============================+======================+======================|\n",
            "|   0  Tesla P100-PCIE...  Off  | 00000000:00:04.0 Off |                    0 |\n",
            "| N/A   36C    P0    28W / 250W |      2MiB / 16280MiB |      0%      Default |\n",
            "|                               |                      |                  N/A |\n",
            "+-------------------------------+----------------------+----------------------+\n",
            "                                                                               \n",
            "+-----------------------------------------------------------------------------+\n",
            "| Processes:                                                                  |\n",
            "|  GPU   GI   CI        PID   Type   Process name                  GPU Memory |\n",
            "|        ID   ID                                                   Usage      |\n",
            "|=============================================================================|\n",
            "|  No running processes found                                                 |\n",
            "+-----------------------------------------------------------------------------+\n"
          ],
          "name": "stdout"
        }
      ]
    },
    {
      "cell_type": "markdown",
      "metadata": {
        "id": "dm5BoZGDW-Dk"
      },
      "source": [
        "## Config file"
      ]
    },
    {
      "cell_type": "code",
      "metadata": {
        "colab": {
          "base_uri": "https://localhost:8080/"
        },
        "id": "WJt1RoClXH7U",
        "outputId": "79be8818-b927-4866-bb2a-50e5f1577229"
      },
      "source": [
        "#data path\n",
        "\n",
        "TRAIN_IMAGE_DIR = '/content/Catheter-and-Line/train/'\n",
        "TEST_IMAGE_DIR = '/content/Catheter-and-Line/test/'\n",
        "TRAIN_CSV = '/content/Catheter-and-Line/train.csv'\n",
        "\n",
        "#read submission csv file\n",
        "sub_dir = '/content/Catheter-and-Line/sample_submission.csv'\n",
        "\n",
        "#something useful parameters in this project\n",
        "#batch_size设置为8，因为大了的话无法运行，报错out of memory\n",
        "BATCH_SIZE = 8\n",
        "IMAGE_SIZE = 512\n",
        "\n",
        "#read csv by pandas package\n",
        "df_train = pd.read_csv(TRAIN_CSV)\n",
        "\n",
        "#Pack all column names as labels\n",
        "LABELS = [\n",
        "            'ETT - Abnormal',\n",
        "            'ETT - Borderline',\n",
        "            'ETT - Normal',\n",
        "            'NGT - Abnormal',\n",
        "            'NGT - Borderline',\n",
        "            'NGT - Incompletely Imaged',\n",
        "            'NGT - Normal',\n",
        "            'CVC - Abnormal',\n",
        "            'CVC - Borderline',\n",
        "            'CVC - Normal',\n",
        "            'Swan Ganz Catheter Present'\n",
        "]\n",
        "\n",
        "df_train.head()\n"
      ],
      "execution_count": null,
      "outputs": [
        {
          "output_type": "execute_result",
          "data": {
            "text/html": [
              "<div>\n",
              "<style scoped>\n",
              "    .dataframe tbody tr th:only-of-type {\n",
              "        vertical-align: middle;\n",
              "    }\n",
              "\n",
              "    .dataframe tbody tr th {\n",
              "        vertical-align: top;\n",
              "    }\n",
              "\n",
              "    .dataframe thead th {\n",
              "        text-align: right;\n",
              "    }\n",
              "</style>\n",
              "<table border=\"1\" class=\"dataframe\">\n",
              "  <thead>\n",
              "    <tr style=\"text-align: right;\">\n",
              "      <th></th>\n",
              "      <th>StudyInstanceUID</th>\n",
              "      <th>ETT - Abnormal</th>\n",
              "      <th>ETT - Borderline</th>\n",
              "      <th>ETT - Normal</th>\n",
              "      <th>NGT - Abnormal</th>\n",
              "      <th>NGT - Borderline</th>\n",
              "      <th>NGT - Incompletely Imaged</th>\n",
              "      <th>NGT - Normal</th>\n",
              "      <th>CVC - Abnormal</th>\n",
              "      <th>CVC - Borderline</th>\n",
              "      <th>CVC - Normal</th>\n",
              "      <th>Swan Ganz Catheter Present</th>\n",
              "      <th>PatientID</th>\n",
              "    </tr>\n",
              "  </thead>\n",
              "  <tbody>\n",
              "    <tr>\n",
              "      <th>0</th>\n",
              "      <td>1.2.826.0.1.3680043.8.498.26697628953273228189...</td>\n",
              "      <td>0</td>\n",
              "      <td>0</td>\n",
              "      <td>0</td>\n",
              "      <td>0</td>\n",
              "      <td>0</td>\n",
              "      <td>0</td>\n",
              "      <td>1</td>\n",
              "      <td>0</td>\n",
              "      <td>0</td>\n",
              "      <td>0</td>\n",
              "      <td>0</td>\n",
              "      <td>ec89415d1</td>\n",
              "    </tr>\n",
              "    <tr>\n",
              "      <th>1</th>\n",
              "      <td>1.2.826.0.1.3680043.8.498.46302891597398758759...</td>\n",
              "      <td>0</td>\n",
              "      <td>0</td>\n",
              "      <td>1</td>\n",
              "      <td>0</td>\n",
              "      <td>0</td>\n",
              "      <td>1</td>\n",
              "      <td>0</td>\n",
              "      <td>0</td>\n",
              "      <td>0</td>\n",
              "      <td>1</td>\n",
              "      <td>0</td>\n",
              "      <td>bf4c6da3c</td>\n",
              "    </tr>\n",
              "    <tr>\n",
              "      <th>2</th>\n",
              "      <td>1.2.826.0.1.3680043.8.498.23819260719748494858...</td>\n",
              "      <td>0</td>\n",
              "      <td>0</td>\n",
              "      <td>0</td>\n",
              "      <td>0</td>\n",
              "      <td>0</td>\n",
              "      <td>0</td>\n",
              "      <td>0</td>\n",
              "      <td>0</td>\n",
              "      <td>1</td>\n",
              "      <td>0</td>\n",
              "      <td>0</td>\n",
              "      <td>3fc1c97e5</td>\n",
              "    </tr>\n",
              "    <tr>\n",
              "      <th>3</th>\n",
              "      <td>1.2.826.0.1.3680043.8.498.68286643202323212801...</td>\n",
              "      <td>0</td>\n",
              "      <td>0</td>\n",
              "      <td>0</td>\n",
              "      <td>0</td>\n",
              "      <td>0</td>\n",
              "      <td>0</td>\n",
              "      <td>0</td>\n",
              "      <td>1</td>\n",
              "      <td>0</td>\n",
              "      <td>0</td>\n",
              "      <td>0</td>\n",
              "      <td>c31019814</td>\n",
              "    </tr>\n",
              "    <tr>\n",
              "      <th>4</th>\n",
              "      <td>1.2.826.0.1.3680043.8.498.10050203009225938259...</td>\n",
              "      <td>0</td>\n",
              "      <td>0</td>\n",
              "      <td>0</td>\n",
              "      <td>0</td>\n",
              "      <td>0</td>\n",
              "      <td>0</td>\n",
              "      <td>0</td>\n",
              "      <td>0</td>\n",
              "      <td>0</td>\n",
              "      <td>1</td>\n",
              "      <td>0</td>\n",
              "      <td>207685cd1</td>\n",
              "    </tr>\n",
              "  </tbody>\n",
              "</table>\n",
              "</div>"
            ],
            "text/plain": [
              "                                    StudyInstanceUID  ...  PatientID\n",
              "0  1.2.826.0.1.3680043.8.498.26697628953273228189...  ...  ec89415d1\n",
              "1  1.2.826.0.1.3680043.8.498.46302891597398758759...  ...  bf4c6da3c\n",
              "2  1.2.826.0.1.3680043.8.498.23819260719748494858...  ...  3fc1c97e5\n",
              "3  1.2.826.0.1.3680043.8.498.68286643202323212801...  ...  c31019814\n",
              "4  1.2.826.0.1.3680043.8.498.10050203009225938259...  ...  207685cd1\n",
              "\n",
              "[5 rows x 13 columns]"
            ]
          },
          "metadata": {
            "tags": []
          },
          "execution_count": 6
        }
      ]
    },
    {
      "cell_type": "code",
      "metadata": {
        "colab": {
          "base_uri": "https://localhost:8080/"
        },
        "id": "26kVCheSfIoG",
        "outputId": "7b52c6e3-8e52-4476-d63c-80e2cc9f3747"
      },
      "source": [
        "\n",
        "#set the debug data which can save time when we meet some errors\n",
        "DEBUG = False\n",
        "if DEBUG:\n",
        "  df_train = df_train.sample(frac=0.1).reset_index(drop=True)\n",
        "  print(df_train.shape)\n",
        "\n",
        "#split the train data to training dataset and validation dataset\n",
        "train_set, valid_set = train_test_split(df_train, test_size = 0.2) #这只是分为了训练和测试集，并不是交叉验证集\n",
        "print(train_set.shape, valid_set.shape)"
      ],
      "execution_count": null,
      "outputs": [
        {
          "output_type": "stream",
          "text": [
            "(24066, 13) (6017, 13)\n"
          ],
          "name": "stdout"
        }
      ]
    },
    {
      "cell_type": "markdown",
      "metadata": {
        "id": "iqXlaoN4Xxbf"
      },
      "source": [
        "## Dataset"
      ]
    },
    {
      "cell_type": "code",
      "metadata": {
        "id": "8DQsz0Y9YWke"
      },
      "source": [
        "#load dataset\n",
        "class Ranzcr_Images(Dataset):\n",
        "\n",
        "    def __init__(self, df, transform=None):\n",
        "        \n",
        "        self.df = df\n",
        "        self.image_ids = df[\"StudyInstanceUID\"].values\n",
        "        self.labels = df[LABELS].values\n",
        "        self.transform = transform\n",
        "\n",
        "    def __len__(self):\n",
        "        return len(self.image_ids)\n",
        "\n",
        "    def __getitem__(self, index):\n",
        "        \"\"\" Returns image,labels. \"\"\"\n",
        "\n",
        "        image_id = self.image_ids[index]\n",
        "        path = TRAIN_IMAGE_DIR + str(image_id) + \".jpg\"\n",
        "        image = cv2.imread(path,0)\n",
        "        image = cv2.cvtColor(image, cv2.COLOR_BGR2RGB)\n",
        "\n",
        "        if self.transform is not None:\n",
        "            res = self.transform(image=image)\n",
        "            img = res['image']\n",
        "\n",
        "        label = torch.tensor(self.labels[index]).float()\n",
        "\n",
        "        return img, label\n"
      ],
      "execution_count": null,
      "outputs": []
    },
    {
      "cell_type": "markdown",
      "metadata": {
        "id": "RzmitKwZRbAl"
      },
      "source": [
        "## Model"
      ]
    },
    {
      "cell_type": "code",
      "metadata": {
        "id": "n3rg3CB2RebZ"
      },
      "source": [
        "#define model\n",
        "class RanzcrNet(nn.Module):\n",
        "  def __init__(self, model_name='resnet200d', out_dim = 11):\n",
        "    super().__init__()\n",
        "    self.model = timm.create_model(model_name, pretrained=True)\n",
        "    n_features = self.model.fc.in_features\n",
        "    self.model.global_pool = nn.Identity()\n",
        "    self.model.fc = nn.Identity()\n",
        "    self.pooling = nn.AdaptiveAvgPool2d(1)\n",
        "    self.fc = nn.Linear(n_features, out_dim)\n",
        "\n",
        "\n",
        "  def forward(self, x):\n",
        "    bs = x.size(0)\n",
        "    features = self.model(x)\n",
        "    pooled_features = self.pooling(features).view(bs,-1)\n",
        "    output = self.fc(pooled_features)\n",
        "    \n",
        "    return output\n"
      ],
      "execution_count": null,
      "outputs": []
    },
    {
      "cell_type": "markdown",
      "metadata": {
        "id": "zUHxwwY7dK8S"
      },
      "source": [
        "## Transforms"
      ]
    },
    {
      "cell_type": "code",
      "metadata": {
        "id": "7v0YYdAqdOmD"
      },
      "source": [
        "transforms_train = albumentations.Compose([\n",
        "   \n",
        "   albumentations.RandomResizedCrop(IMAGE_SIZE, IMAGE_SIZE, scale=(0.9, 1), p=1), \n",
        "   albumentations.HorizontalFlip(p=0.5),\n",
        "   albumentations.ShiftScaleRotate(p=0.5),\n",
        "\n",
        "   albumentations.HueSaturationValue(hue_shift_limit=10, sat_shift_limit=10, val_shift_limit=10, p=0.7),\n",
        "   albumentations.RandomBrightnessContrast(brightness_limit=(-0.2,0.2), contrast_limit=(-0.2, 0.2), p=0.7),\n",
        "   albumentations.CLAHE(clip_limit=(1,4), p=0.9),\n",
        "   albumentations.ColorJitter (brightness=0.2, contrast=0.2, saturation=0.2, hue=0.2, always_apply=False, p=0.5),\n",
        "   \n",
        "   albumentations.OneOf([\n",
        "       albumentations.OpticalDistortion(distort_limit=1.0),\n",
        "       albumentations.GridDistortion(num_steps=5, distort_limit=1.),\n",
        "       albumentations.ElasticTransform(alpha=3),\n",
        "   ], p=0.2),\n",
        "\n",
        "   albumentations.OneOf([\n",
        "       albumentations.GaussNoise(var_limit=[10, 50]),\n",
        "       albumentations.GaussianBlur(),\n",
        "       albumentations.MotionBlur(),\n",
        "       albumentations.MedianBlur(),\n",
        "   ], p=0.2),\n",
        "\n",
        "   albumentations.Resize(IMAGE_SIZE, IMAGE_SIZE),\n",
        "   \n",
        "   albumentations.OneOf([\n",
        "       ImageCompression(),\n",
        "       Downscale(scale_min=0.1, scale_max=0.15),\n",
        "   ], p=0.2),\n",
        "   PiecewiseAffine(p=0.2),\n",
        "   Sharpen(p=0.2),\n",
        "   albumentations.CoarseDropout(max_holes=5,max_height=int(IMAGE_SIZE * 0.1), max_width=int(IMAGE_SIZE * 0.1), p=0.5),\n",
        "   Normalize(                    #using ImageNet norms\n",
        "       mean=[0.485, 0.456, 0.406],\n",
        "       std=[0.229, 0.224, 0.225],\n",
        "   ),\n",
        "   ToTensorV2()\n",
        "])"
      ],
      "execution_count": null,
      "outputs": []
    },
    {
      "cell_type": "code",
      "metadata": {
        "id": "8T39eHky4oMS"
      },
      "source": [
        "transforms_test = albumentations.Compose([\n",
        "    Resize(IMAGE_SIZE,IMAGE_SIZE),\n",
        "    Normalize(                    #using ImageNet norms\n",
        "        mean=[0.485, 0.456, 0.406],\n",
        "        std=[0.229, 0.224, 0.225],\n",
        "    ),\n",
        "    ToTensorV2()\n",
        "])"
      ],
      "execution_count": null,
      "outputs": []
    },
    {
      "cell_type": "markdown",
      "metadata": {
        "id": "C_G65dZ0wHEy"
      },
      "source": [
        "## Dataset and DataLoader"
      ]
    },
    {
      "cell_type": "code",
      "metadata": {
        "id": "Z86BudWcwJzM"
      },
      "source": [
        "#build dataset\n",
        "train_dataset = Ranzcr_Images(\n",
        "    train_set, \n",
        "    transform=transforms_train,\n",
        "    )\n",
        "valid_dataset = Ranzcr_Images(\n",
        "    valid_set, \n",
        "    transform=transforms_test,\n",
        "    )\n",
        "\n",
        "#build train dataloader\n",
        "train_loader = DataLoader(\n",
        "    train_dataset,\n",
        "    batch_size = BATCH_SIZE,\n",
        "    shuffle = True,\n",
        "    num_workers = 2,\n",
        "    pin_memory=True,\n",
        ")\n",
        "\n",
        "#build valid dataloader\n",
        "valid_loader = DataLoader(\n",
        "    valid_dataset,\n",
        "    batch_size = 64,\n",
        "    shuffle = False,\n",
        "    num_workers = 2,\n",
        "    pin_memory=True,\n",
        ")\n"
      ],
      "execution_count": null,
      "outputs": []
    },
    {
      "cell_type": "code",
      "metadata": {
        "id": "LRFHz7tAzwkv",
        "colab": {
          "base_uri": "https://localhost:8080/"
        },
        "outputId": "08f37bc8-e3e4-4c76-f469-bce038407bdc"
      },
      "source": [
        "#print the information of two dataset\n",
        "print(len(train_dataset))\n",
        "print(len(valid_dataset))\n",
        "\n",
        "#print the information of two loader\n",
        "print(len(train_loader))\n",
        "print(len(valid_loader))"
      ],
      "execution_count": null,
      "outputs": [
        {
          "output_type": "stream",
          "text": [
            "24066\n",
            "6017\n",
            "3009\n",
            "95\n"
          ],
          "name": "stdout"
        }
      ]
    },
    {
      "cell_type": "markdown",
      "metadata": {
        "id": "doDvrM1htcmc"
      },
      "source": [
        "## Utils"
      ]
    },
    {
      "cell_type": "markdown",
      "metadata": {
        "id": "NoGScmp7tgg3"
      },
      "source": [
        "转换标签"
      ]
    },
    {
      "cell_type": "code",
      "metadata": {
        "id": "MBW9bpcwtjpi"
      },
      "source": [
        "def fzto(pred):\n",
        "  for i in range(len(pred)):\n",
        "    for j in range(len(pred[i])):\n",
        "      if pred[i][j]<0.5:\n",
        "        pred[i][j]=0\n",
        "      else:\n",
        "        pred[i][j]=1\n",
        "  return pred"
      ],
      "execution_count": null,
      "outputs": []
    },
    {
      "cell_type": "markdown",
      "metadata": {
        "id": "yX3LAHORRsnb"
      },
      "source": [
        "计算准确度"
      ]
    },
    {
      "cell_type": "code",
      "metadata": {
        "id": "VGXAsHKURqHE"
      },
      "source": [
        "\n",
        "def macro_multilabel_auc(label, pred):\n",
        "    aucs = []\n",
        "    for i in range(len(LABELS)):\n",
        "        aucs.append(roc_auc_score(label[:, i], pred[:, i]))\n",
        "    return np.mean(aucs)"
      ],
      "execution_count": null,
      "outputs": []
    },
    {
      "cell_type": "code",
      "metadata": {
        "id": "vh6PTfDJuo1i"
      },
      "source": [
        "def conf_matrix(label, pred,i):\n",
        "      confusion = confusion_matrix(label[:,i],pred[:,i])\n",
        "\n",
        "      plt.imshow(confusion, cmap=plt.cm.Blues)\n",
        "      plt.rcParams['figure.figsize'] = (8.0, 8.0)\n",
        "      indices = range(len(confusion))\n",
        "      plt.xticks(indices, ['0','1'])\n",
        "      plt.yticks(indices, ['0','1'])\n",
        "\n",
        "      plt.colorbar()\n",
        "\n",
        "      plt.xlabel('Predicted Labels')\n",
        "      plt.ylabel('True Labels')\n",
        "      plt.title(LABELS[i]+'Train Confusion Matrix')\n",
        "\n",
        "      for first_index in range(len(confusion)):  \n",
        "          for second_index in range(len(confusion[first_index])): \n",
        "              plt.text(first_index, second_index, confusion[first_index][second_index])\n",
        "      plt.show()"
      ],
      "execution_count": null,
      "outputs": []
    },
    {
      "cell_type": "markdown",
      "metadata": {
        "id": "kFj1Uu7Nv8Y_"
      },
      "source": [
        "## Training"
      ]
    },
    {
      "cell_type": "markdown",
      "metadata": {
        "id": "KMk6pTNvB2e9"
      },
      "source": [
        "#### Train the model and caculate the valid loss"
      ]
    },
    {
      "cell_type": "code",
      "metadata": {
        "id": "jPFypqZIv-rF",
        "colab": {
          "base_uri": "https://localhost:8080/"
        },
        "outputId": "e5abaa5f-64a3-4c10-8ded-fa3515955857"
      },
      "source": [
        "start = time.time()\n",
        "#put model onto GPU\n",
        "model = RanzcrNet()\n",
        "if torch.cuda.device_count()>1:\n",
        "  print(torch.cuda.device_count())\n",
        "  model = nn.DataParallel(model)\n",
        "model = model.to(device)\n",
        "\n",
        "\n",
        "#loss function and optimizer\n",
        "criterion = nn.BCEWithLogitsLoss()\n",
        "#optimizer = optim.Adam(model.parameters(),lr=0.02)\n",
        "optimizer = optim.SGD(model.parameters(),lr=0.1,momentum=0.9)\n",
        "\n",
        "n = 25\n",
        "\n",
        "#scheduler = optim.lr_scheduler.CosineAnnealingLR(optimizer, T_max=30, eta_min = 0.0005, verbose=1)\n",
        "\n",
        "pic = np.zeros((2,n))\n",
        "\n",
        "#start training the model in n epochs\n",
        "for epoch in range(n):\n",
        "  #scheduler.step(epoch)\n",
        "  p = torch.zeros(1,11)\n",
        "  l = torch.zeros(1,11)\n",
        "  train_loss = 0\n",
        "  model.train()\n",
        "  for i,data in enumerate(train_loader):\n",
        "\n",
        "    image, labels = data[0].to(device),data[1].to(device)\n",
        "\n",
        "    optimizer.zero_grad()\n",
        "    output = model(image)\n",
        "\n",
        "    t_loss = criterion(output, labels)\n",
        "    t_loss.backward()\n",
        "\n",
        "    optimizer.step()\n",
        "\n",
        "    train_loss += t_loss.item()\n",
        "\n",
        "  #set the validation set loss\n",
        "  valid_loss = 0\n",
        "  model.eval()\n",
        "\n",
        "  with torch.no_grad():\n",
        "    for index,data in enumerate(valid_loader):\n",
        "      \n",
        "      image, labels = data[0].to(device),data[1].to(device)\n",
        "\n",
        "      pred = model(image)\n",
        "      \n",
        "      pred_1 = pred.sigmoid().detach().cpu()\n",
        "      pred_1 = fzto(pred_1)\n",
        "      labels_1 = labels.cpu()\n",
        "      p = torch.cat((p,pred_1),0)\n",
        "      l = torch.cat((l,labels_1),0)\n",
        "      \n",
        "      v_loss = criterion(pred, labels)\n",
        "      valid_loss += v_loss.item()\n",
        "\n",
        "  _,p = torch.split(p,[1,len(valid_dataset)])\n",
        "  _,l = torch.split(l,[1,len(valid_dataset)])\n",
        "  \n",
        "  print(macro_multilabel_auc(l, p))\n",
        "  #print(explained_variance_score(l,p))\n",
        "#  scheduler.step()#explained_variance_score(l,p))\n",
        "\n",
        "  pic[:,epoch] = train_loss/len(train_loader),valid_loss/len(valid_loader)\n",
        "\n",
        "  \n",
        "  print(f\"EPOCH:{epoch}, Train_Loss:{train_loss/len(train_loader): .6f},Valid_Loss:{valid_loss/len(valid_loader): .6f}\")\n",
        "\n",
        "end = time.time()\n",
        "print('running time : %s min'%((end-start)/60))"
      ],
      "execution_count": null,
      "outputs": [
        {
          "output_type": "stream",
          "text": [
            "0.6143055578727921\n",
            "EPOCH:0, Train_Loss: 0.244358,Valid_Loss: 0.217905\n",
            "0.6482641478281449\n",
            "EPOCH:1, Train_Loss: 0.217067,Valid_Loss: 0.190333\n",
            "0.6853238192537363\n",
            "EPOCH:2, Train_Loss: 0.200165,Valid_Loss: 0.166591\n",
            "0.7060859300044784\n",
            "EPOCH:3, Train_Loss: 0.190436,Valid_Loss: 0.153031\n",
            "0.7063145411351767\n",
            "EPOCH:4, Train_Loss: 0.183947,Valid_Loss: 0.153064\n",
            "0.7011883972157155\n",
            "EPOCH:5, Train_Loss: 0.177567,Valid_Loss: 0.152025\n",
            "0.7166023975575396\n",
            "EPOCH:6, Train_Loss: 0.174746,Valid_Loss: 0.153450\n",
            "0.7183328451345624\n",
            "EPOCH:7, Train_Loss: 0.170923,Valid_Loss: 0.146587\n",
            "0.7219129510432352\n",
            "EPOCH:8, Train_Loss: 0.168208,Valid_Loss: 0.142719\n",
            "0.7494479870655834\n",
            "EPOCH:9, Train_Loss: 0.164618,Valid_Loss: 0.144995\n",
            "0.7478940435444396\n",
            "EPOCH:10, Train_Loss: 0.162127,Valid_Loss: 0.140957\n",
            "0.7428291031125617\n",
            "EPOCH:11, Train_Loss: 0.159238,Valid_Loss: 0.140143\n",
            "0.7403180186915231\n",
            "EPOCH:12, Train_Loss: 0.156831,Valid_Loss: 0.135441\n",
            "0.7330622530997026\n",
            "EPOCH:13, Train_Loss: 0.154992,Valid_Loss: 0.135941\n",
            "0.748488135543557\n",
            "EPOCH:14, Train_Loss: 0.154015,Valid_Loss: 0.134620\n",
            "0.7571596479410552\n",
            "EPOCH:15, Train_Loss: 0.151919,Valid_Loss: 0.136842\n",
            "0.7515812494734856\n",
            "EPOCH:16, Train_Loss: 0.150110,Valid_Loss: 0.135910\n",
            "0.7365591682453768\n",
            "EPOCH:17, Train_Loss: 0.147730,Valid_Loss: 0.136417\n",
            "0.7510486222906206\n",
            "EPOCH:18, Train_Loss: 0.145970,Valid_Loss: 0.134036\n",
            "0.7514222418256213\n",
            "EPOCH:19, Train_Loss: 0.144820,Valid_Loss: 0.135299\n",
            "0.7592021456006033\n",
            "EPOCH:20, Train_Loss: 0.143714,Valid_Loss: 0.127440\n",
            "0.7655882875736882\n",
            "EPOCH:21, Train_Loss: 0.142023,Valid_Loss: 0.135757\n",
            "0.7638527868965693\n",
            "EPOCH:22, Train_Loss: 0.139946,Valid_Loss: 0.139171\n",
            "0.7679955486994063\n",
            "EPOCH:23, Train_Loss: 0.137920,Valid_Loss: 0.134638\n",
            "0.7735427609048018\n",
            "EPOCH:24, Train_Loss: 0.137468,Valid_Loss: 0.134982\n",
            "running time : 1364.4061831394831 min\n"
          ],
          "name": "stdout"
        }
      ]
    },
    {
      "cell_type": "markdown",
      "metadata": {
        "id": "PQM3nnzrmAnA"
      },
      "source": [
        "#### loss picture"
      ]
    },
    {
      "cell_type": "code",
      "metadata": {
        "id": "ILrr99-onqA6",
        "colab": {
          "base_uri": "https://localhost:8080/",
          "height": 295
        },
        "outputId": "94488cf0-766a-4457-e911-2244550f3aea"
      },
      "source": [
        "#画出损失函数图\n",
        "plt.plot(pic[0], 'r', label = 'Training loss', )\n",
        "plt.plot(pic[1], 'g', label = 'Validation loss' )\n",
        "plt.legend()\n",
        "plt.xlabel('epoch')\n",
        "plt.ylabel('loss')\n",
        "plt.title('Training loss and Validation loss')\n",
        "plt.show()"
      ],
      "execution_count": null,
      "outputs": [
        {
          "output_type": "display_data",
          "data": {
            "image/png": "[encoded data removed]",
            "text/plain": [
              "<Figure size 432x288 with 1 Axes>"
            ]
          },
          "metadata": {
            "tags": [],
            "needs_background": "light"
          }
        }
      ]
    },
    {
      "cell_type": "code",
      "metadata": {
        "colab": {
          "base_uri": "https://localhost:8080/",
          "height": 1000
        },
        "id": "7KWORRYBukpb",
        "outputId": "b47dd658-75ee-4fe3-d182-c6441a2ea8f2"
      },
      "source": [
        "for i in range(len(LABELS)):\n",
        "    conf_matrix(l,p,i)"
      ],
      "execution_count": null,
      "outputs": [
        {
          "output_type": "display_data",
          "data": {
            "image/png": "[encoded data removed]",
            "text/plain": [
              "<Figure size 432x288 with 2 Axes>"
            ]
          },
          "metadata": {
            "tags": [],
            "needs_background": "light"
          }
        },
        {
          "output_type": "display_data",
          "data": {
            "image/png": "[encoded data removed]",
            "text/plain": [
              "<Figure size 576x576 with 2 Axes>"
            ]
          },
          "metadata": {
            "tags": [],
            "needs_background": "light"
          }
        },
        {
          "output_type": "display_data",
          "data": {
            "image/png": "[encoded data removed]",
            "text/plain": [
              "<Figure size 576x576 with 2 Axes>"
            ]
          },
          "metadata": {
            "tags": [],
            "needs_background": "light"
          }
        },
        {
          "output_type": "display_data",
          "data": {
            "image/png": "[encoded data removed]",
            "text/plain": [
              "<Figure size 576x576 with 2 Axes>"
            ]
          },
          "metadata": {
            "tags": [],
            "needs_background": "light"
          }
        },
        {
          "output_type": "display_data",
          "data": {
            "image/png": "[encoded data removed]",
            "text/plain": [
              "<Figure size 576x576 with 2 Axes>"
            ]
          },
          "metadata": {
            "tags": [],
            "needs_background": "light"
          }
        },
        {
          "output_type": "display_data",
          "data": {
            "image/png": "[encoded data removed]",
            "text/plain": [
              "<Figure size 576x576 with 2 Axes>"
            ]
          },
          "metadata": {
            "tags": [],
            "needs_background": "light"
          }
        },
        {
          "output_type": "display_data",
          "data": {
            "image/png": "[encoded data removed]",
            "text/plain": [
              "<Figure size 576x576 with 2 Axes>"
            ]
          },
          "metadata": {
            "tags": [],
            "needs_background": "light"
          }
        },
        {
          "output_type": "display_data",
          "data": {
            "image/png": "[encoded data removed]",
            "text/plain": [
              "<Figure size 576x576 with 2 Axes>"
            ]
          },
          "metadata": {
            "tags": [],
            "needs_background": "light"
          }
        },
        {
          "output_type": "display_data",
          "data": {
            "image/png": "[encoded data removed]",
            "text/plain": [
              "<Figure size 576x576 with 2 Axes>"
            ]
          },
          "metadata": {
            "tags": [],
            "needs_background": "light"
          }
        },
        {
          "output_type": "display_data",
          "data": {
            "image/png": "[encoded data removed]",
            "text/plain": [
              "<Figure size 576x576 with 2 Axes>"
            ]
          },
          "metadata": {
            "tags": [],
            "needs_background": "light"
          }
        },
        {
          "output_type": "display_data",
          "data": {
            "image/png": "[encoded data removed]",
            "text/plain": [
              "<Figure size 576x576 with 2 Axes>"
            ]
          },
          "metadata": {
            "tags": [],
            "needs_background": "light"
          }
        }
      ]
    },
    {
      "cell_type": "code",
      "metadata": {
        "id": "I9Z_xkXIMOy3"
      },
      "source": [
        "#save the model\n",
        "torch.save(model.state_dict(),'./model.pkl')\n",
        "#load the model\n",
        "#model = model.load_state_dict(torch.load('data/model.pkl'))"
      ],
      "execution_count": null,
      "outputs": []
    }
  ]
}