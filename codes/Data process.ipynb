{
 "cells": [
  {
   "cell_type": "code",
   "execution_count": 1,
   "id": "42482a71",
   "metadata": {},
   "outputs": [],
   "source": [
    "import pandas as pd"
   ]
  },
  {
   "cell_type": "code",
   "execution_count": 2,
   "id": "1f8927f8",
   "metadata": {},
   "outputs": [],
   "source": [
    "df = pd.read_csv('./train.csv')"
   ]
  },
  {
   "cell_type": "code",
   "execution_count": 3,
   "id": "6f4f00ac",
   "metadata": {},
   "outputs": [
    {
     "data": {
      "text/html": [
       "<div>\n",
       "<style scoped>\n",
       "    .dataframe tbody tr th:only-of-type {\n",
       "        vertical-align: middle;\n",
       "    }\n",
       "\n",
       "    .dataframe tbody tr th {\n",
       "        vertical-align: top;\n",
       "    }\n",
       "\n",
       "    .dataframe thead th {\n",
       "        text-align: right;\n",
       "    }\n",
       "</style>\n",
       "<table border=\"1\" class=\"dataframe\">\n",
       "  <thead>\n",
       "    <tr style=\"text-align: right;\">\n",
       "      <th></th>\n",
       "      <th>ETT - Abnormal</th>\n",
       "      <th>ETT - Borderline</th>\n",
       "      <th>ETT - Normal</th>\n",
       "      <th>NGT - Abnormal</th>\n",
       "      <th>NGT - Borderline</th>\n",
       "      <th>NGT - Incompletely Imaged</th>\n",
       "      <th>NGT - Normal</th>\n",
       "      <th>CVC - Abnormal</th>\n",
       "      <th>CVC - Borderline</th>\n",
       "      <th>CVC - Normal</th>\n",
       "      <th>Swan Ganz Catheter Present</th>\n",
       "    </tr>\n",
       "  </thead>\n",
       "  <tbody>\n",
       "    <tr>\n",
       "      <th>count</th>\n",
       "      <td>30083.000000</td>\n",
       "      <td>30083.000000</td>\n",
       "      <td>30083.000000</td>\n",
       "      <td>30083.000000</td>\n",
       "      <td>30083.000000</td>\n",
       "      <td>30083.000000</td>\n",
       "      <td>30083.000000</td>\n",
       "      <td>30083.000000</td>\n",
       "      <td>30083.000000</td>\n",
       "      <td>30083.000000</td>\n",
       "      <td>30083.000000</td>\n",
       "    </tr>\n",
       "    <tr>\n",
       "      <th>mean</th>\n",
       "      <td>0.002626</td>\n",
       "      <td>0.037829</td>\n",
       "      <td>0.240667</td>\n",
       "      <td>0.009274</td>\n",
       "      <td>0.017585</td>\n",
       "      <td>0.091347</td>\n",
       "      <td>0.159459</td>\n",
       "      <td>0.106206</td>\n",
       "      <td>0.281222</td>\n",
       "      <td>0.708839</td>\n",
       "      <td>0.027590</td>\n",
       "    </tr>\n",
       "    <tr>\n",
       "      <th>std</th>\n",
       "      <td>0.051179</td>\n",
       "      <td>0.190785</td>\n",
       "      <td>0.427496</td>\n",
       "      <td>0.095857</td>\n",
       "      <td>0.131438</td>\n",
       "      <td>0.288107</td>\n",
       "      <td>0.366110</td>\n",
       "      <td>0.308106</td>\n",
       "      <td>0.449603</td>\n",
       "      <td>0.454305</td>\n",
       "      <td>0.163799</td>\n",
       "    </tr>\n",
       "    <tr>\n",
       "      <th>min</th>\n",
       "      <td>0.000000</td>\n",
       "      <td>0.000000</td>\n",
       "      <td>0.000000</td>\n",
       "      <td>0.000000</td>\n",
       "      <td>0.000000</td>\n",
       "      <td>0.000000</td>\n",
       "      <td>0.000000</td>\n",
       "      <td>0.000000</td>\n",
       "      <td>0.000000</td>\n",
       "      <td>0.000000</td>\n",
       "      <td>0.000000</td>\n",
       "    </tr>\n",
       "    <tr>\n",
       "      <th>25%</th>\n",
       "      <td>0.000000</td>\n",
       "      <td>0.000000</td>\n",
       "      <td>0.000000</td>\n",
       "      <td>0.000000</td>\n",
       "      <td>0.000000</td>\n",
       "      <td>0.000000</td>\n",
       "      <td>0.000000</td>\n",
       "      <td>0.000000</td>\n",
       "      <td>0.000000</td>\n",
       "      <td>0.000000</td>\n",
       "      <td>0.000000</td>\n",
       "    </tr>\n",
       "    <tr>\n",
       "      <th>50%</th>\n",
       "      <td>0.000000</td>\n",
       "      <td>0.000000</td>\n",
       "      <td>0.000000</td>\n",
       "      <td>0.000000</td>\n",
       "      <td>0.000000</td>\n",
       "      <td>0.000000</td>\n",
       "      <td>0.000000</td>\n",
       "      <td>0.000000</td>\n",
       "      <td>0.000000</td>\n",
       "      <td>1.000000</td>\n",
       "      <td>0.000000</td>\n",
       "    </tr>\n",
       "    <tr>\n",
       "      <th>75%</th>\n",
       "      <td>0.000000</td>\n",
       "      <td>0.000000</td>\n",
       "      <td>0.000000</td>\n",
       "      <td>0.000000</td>\n",
       "      <td>0.000000</td>\n",
       "      <td>0.000000</td>\n",
       "      <td>0.000000</td>\n",
       "      <td>0.000000</td>\n",
       "      <td>1.000000</td>\n",
       "      <td>1.000000</td>\n",
       "      <td>0.000000</td>\n",
       "    </tr>\n",
       "    <tr>\n",
       "      <th>max</th>\n",
       "      <td>1.000000</td>\n",
       "      <td>1.000000</td>\n",
       "      <td>1.000000</td>\n",
       "      <td>1.000000</td>\n",
       "      <td>1.000000</td>\n",
       "      <td>1.000000</td>\n",
       "      <td>1.000000</td>\n",
       "      <td>1.000000</td>\n",
       "      <td>1.000000</td>\n",
       "      <td>1.000000</td>\n",
       "      <td>1.000000</td>\n",
       "    </tr>\n",
       "  </tbody>\n",
       "</table>\n",
       "</div>"
      ],
      "text/plain": [
       "       ETT - Abnormal  ETT - Borderline  ETT - Normal  NGT - Abnormal  \\\n",
       "count    30083.000000      30083.000000  30083.000000    30083.000000   \n",
       "mean         0.002626          0.037829      0.240667        0.009274   \n",
       "std          0.051179          0.190785      0.427496        0.095857   \n",
       "min          0.000000          0.000000      0.000000        0.000000   \n",
       "25%          0.000000          0.000000      0.000000        0.000000   \n",
       "50%          0.000000          0.000000      0.000000        0.000000   \n",
       "75%          0.000000          0.000000      0.000000        0.000000   \n",
       "max          1.000000          1.000000      1.000000        1.000000   \n",
       "\n",
       "       NGT - Borderline  NGT - Incompletely Imaged  NGT - Normal  \\\n",
       "count      30083.000000               30083.000000  30083.000000   \n",
       "mean           0.017585                   0.091347      0.159459   \n",
       "std            0.131438                   0.288107      0.366110   \n",
       "min            0.000000                   0.000000      0.000000   \n",
       "25%            0.000000                   0.000000      0.000000   \n",
       "50%            0.000000                   0.000000      0.000000   \n",
       "75%            0.000000                   0.000000      0.000000   \n",
       "max            1.000000                   1.000000      1.000000   \n",
       "\n",
       "       CVC - Abnormal  CVC - Borderline  CVC - Normal  \\\n",
       "count    30083.000000      30083.000000  30083.000000   \n",
       "mean         0.106206          0.281222      0.708839   \n",
       "std          0.308106          0.449603      0.454305   \n",
       "min          0.000000          0.000000      0.000000   \n",
       "25%          0.000000          0.000000      0.000000   \n",
       "50%          0.000000          0.000000      1.000000   \n",
       "75%          0.000000          1.000000      1.000000   \n",
       "max          1.000000          1.000000      1.000000   \n",
       "\n",
       "       Swan Ganz Catheter Present  \n",
       "count                30083.000000  \n",
       "mean                     0.027590  \n",
       "std                      0.163799  \n",
       "min                      0.000000  \n",
       "25%                      0.000000  \n",
       "50%                      0.000000  \n",
       "75%                      0.000000  \n",
       "max                      1.000000  "
      ]
     },
     "execution_count": 3,
     "metadata": {},
     "output_type": "execute_result"
    }
   ],
   "source": [
    "df.describe()"
   ]
  },
  {
   "cell_type": "code",
   "execution_count": 4,
   "id": "744e842b",
   "metadata": {},
   "outputs": [
    {
     "data": {
      "text/plain": [
       "StudyInstanceUID              30083\n",
       "ETT - Abnormal                30083\n",
       "ETT - Borderline              30083\n",
       "ETT - Normal                  30083\n",
       "NGT - Abnormal                30083\n",
       "NGT - Borderline              30083\n",
       "NGT - Incompletely Imaged     30083\n",
       "NGT - Normal                  30083\n",
       "CVC - Abnormal                30083\n",
       "CVC - Borderline              30083\n",
       "CVC - Normal                  30083\n",
       "Swan Ganz Catheter Present    30083\n",
       "PatientID                     30083\n",
       "dtype: int64"
      ]
     },
     "execution_count": 4,
     "metadata": {},
     "output_type": "execute_result"
    }
   ],
   "source": [
    "df.count()"
   ]
  },
  {
   "cell_type": "code",
   "execution_count": 6,
   "id": "533fac10",
   "metadata": {},
   "outputs": [
    {
     "data": {
      "text/plain": [
       "StudyInstanceUID              0\n",
       "ETT - Abnormal                0\n",
       "ETT - Borderline              0\n",
       "ETT - Normal                  0\n",
       "NGT - Abnormal                0\n",
       "NGT - Borderline              0\n",
       "NGT - Incompletely Imaged     0\n",
       "NGT - Normal                  0\n",
       "CVC - Abnormal                0\n",
       "CVC - Borderline              0\n",
       "CVC - Normal                  0\n",
       "Swan Ganz Catheter Present    0\n",
       "PatientID                     0\n",
       "dtype: int64"
      ]
     },
     "execution_count": 6,
     "metadata": {},
     "output_type": "execute_result"
    }
   ],
   "source": [
    "df.isnull().sum()"
   ]
  },
  {
   "cell_type": "code",
   "execution_count": 9,
   "id": "db5071e4",
   "metadata": {},
   "outputs": [
    {
     "data": {
      "text/plain": [
       "<bound method Series.unique of 0        1.2.826.0.1.3680043.8.498.26697628953273228189...\n",
       "1        1.2.826.0.1.3680043.8.498.46302891597398758759...\n",
       "2        1.2.826.0.1.3680043.8.498.23819260719748494858...\n",
       "3        1.2.826.0.1.3680043.8.498.68286643202323212801...\n",
       "4        1.2.826.0.1.3680043.8.498.10050203009225938259...\n",
       "                               ...                        \n",
       "30078    1.2.826.0.1.3680043.8.498.74257566841157531124...\n",
       "30079    1.2.826.0.1.3680043.8.498.46510939987173529969...\n",
       "30080    1.2.826.0.1.3680043.8.498.43173270582850645437...\n",
       "30081    1.2.826.0.1.3680043.8.498.95092491950130838685...\n",
       "30082    1.2.826.0.1.3680043.8.498.99518162226171269731...\n",
       "Name: StudyInstanceUID, Length: 30083, dtype: object>"
      ]
     },
     "execution_count": 9,
     "metadata": {},
     "output_type": "execute_result"
    }
   ],
   "source": [
    "df['StudyInstanceUID'].unique"
   ]
  },
  {
   "cell_type": "code",
   "execution_count": 11,
   "id": "95bfa013",
   "metadata": {},
   "outputs": [
    {
     "data": {
      "text/plain": [
       "0"
      ]
     },
     "execution_count": 11,
     "metadata": {},
     "output_type": "execute_result"
    }
   ],
   "source": [
    "df.duplicated().sum()"
   ]
  },
  {
   "cell_type": "code",
   "execution_count": 18,
   "id": "248aaa6c",
   "metadata": {},
   "outputs": [
    {
     "name": "stdout",
     "output_type": "stream",
     "text": [
      "30083\n",
      "3255\n"
     ]
    }
   ],
   "source": [
    "list_dpd = df['PatientID'].tolist()\n",
    "list_drop_dpd = set(df['PatientID'].tolist())\n",
    "print(len(list_dpd))\n",
    "print(len(list_drop_dpd))"
   ]
  },
  {
   "cell_type": "code",
   "execution_count": null,
   "id": "1e856d8e",
   "metadata": {},
   "outputs": [],
   "source": []
  }
 ],
 "metadata": {
  "kernelspec": {
   "display_name": "Python 3",
   "language": "python",
   "name": "python3"
  },
  "language_info": {
   "codemirror_mode": {
    "name": "ipython",
    "version": 3
   },
   "file_extension": ".py",
   "mimetype": "text/x-python",
   "name": "python",
   "nbconvert_exporter": "python",
   "pygments_lexer": "ipython3",
   "version": "3.8.8"
  }
 },
 "nbformat": 4,
 "nbformat_minor": 5
}
